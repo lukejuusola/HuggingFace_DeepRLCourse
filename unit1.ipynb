{
  "cells": [
    {
      "cell_type": "code",
      "execution_count": 9,
      "metadata": {
        "id": "qnQJr7oEI9jv"
      },
      "outputs": [],
      "source": [
        "# https://huggingface.co/learn/deep-rl-course/en/unit1/hands-on"
      ]
    },
    {
      "cell_type": "markdown",
      "metadata": {
        "id": "x7oR6R-ZIbeS"
      },
      "source": [
        "### The environment 🎮\n",
        "\n",
        "- [LunarLander-v2](https://gymnasium.farama.org/environments/box2d/lunar_lander/)\n",
        "\n",
        "### The library used 📚\n",
        "\n",
        "- [Stable-Baselines3](https://stable-baselines3.readthedocs.io/en/master/)"
      ]
    },
    {
      "cell_type": "markdown",
      "metadata": {
        "id": "4i6tjI2tHQ8j"
      },
      "source": [
        "## Objectives of this notebook 🏆\n",
        "\n",
        "At the end of the notebook, you will:\n",
        "\n",
        "- Be able to use **Gymnasium**, the environment library.\n",
        "- Be able to use **Stable-Baselines3**, the deep reinforcement learning library.\n",
        "- Be able to **push your trained agent to the Hub** with a nice video replay and an evaluation score 🔥.\n",
        "\n",
        "\n"
      ]
    },
    {
      "cell_type": "markdown",
      "metadata": {
        "id": "jeDAH0h0EBiG"
      },
      "source": [
        "## Install dependencies and create a virtual screen 🔽\n",
        "\n",
        "The first step is to install the dependencies, we’ll install multiple ones.\n",
        "\n",
        "- `gymnasium[box2d]`: Contains the LunarLander-v2 environment 🌛\n",
        "- `stable-baselines3[extra]`: The deep reinforcement learning library.\n",
        "- `huggingface_sb3`: Additional code for Stable-baselines3 to load and upload models from the Hugging Face 🤗 Hub.\n",
        "\n",
        "To make things easier, we created a script to install all these dependencies."
      ]
    },
    {
      "cell_type": "markdown",
      "metadata": {
        "id": "BEKeXQJsQCYm"
      },
      "source": [
        "During the notebook, we'll need to generate a replay video. To do so, with colab, **we need to have a virtual screen to be able to render the environment** (and thus record the frames).\n",
        "\n",
        "Hence the following cell will install virtual screen libraries and create and run a virtual screen 🖥"
      ]
    },
    {
      "cell_type": "code",
      "execution_count": 12,
      "metadata": {
        "id": "j5f2cGkdP-mb"
      },
      "outputs": [],
      "source": [
        "# !sudo apt-get update\n",
        "# !sudo apt-get install -y python3-opengl\n",
        "# !apt install ffmpeg\n",
        "# !apt install xvfb\n",
        "# !pip3 install pyvirtualdisplay"
      ]
    },
    {
      "cell_type": "markdown",
      "metadata": {
        "id": "TCwBTAwAW9JJ"
      },
      "source": [
        "To make sure the new installed libraries are used, **sometimes it's required to restart the notebook runtime**. The next cell will force the **runtime to crash, so you'll need to connect again and run the code starting from here**. Thanks to this trick, **we will be able to run our virtual screen.**"
      ]
    },
    {
      "cell_type": "code",
      "execution_count": 13,
      "metadata": {
        "id": "cYvkbef7XEMi"
      },
      "outputs": [],
      "source": [
        "# import os\n",
        "# os.kill(os.getpid(), 9)"
      ]
    },
    {
      "cell_type": "code",
      "execution_count": 14,
      "metadata": {
        "id": "BE5JWP5rQIKf"
      },
      "outputs": [],
      "source": [
        "# Virtual display\n",
        "# from pyvirtualdisplay import Display\n",
        "\n",
        "# virtual_display = Display(visible=0, size=(1400, 900))\n",
        "# virtual_display.start()"
      ]
    },
    {
      "cell_type": "markdown",
      "metadata": {
        "id": "wrgpVFqyENVf"
      },
      "source": [
        "## Import the packages 📦\n",
        "\n",
        "One additional library we import is huggingface_hub **to be able to upload and download trained models from the hub**.\n",
        "\n",
        "\n",
        "The Hugging Face Hub 🤗 works as a central place where anyone can share and explore models and datasets. It has versioning, metrics, visualizations and other features that will allow you to easily collaborate with others.\n",
        "\n",
        "You can see here all the Deep reinforcement Learning models available here👉 https://huggingface.co/models?pipeline_tag=reinforcement-learning&sort=downloads\n",
        "\n"
      ]
    },
    {
      "cell_type": "code",
      "execution_count": 2,
      "metadata": {
        "id": "cygWLPGsEQ0m"
      },
      "outputs": [
        {
          "name": "stderr",
          "output_type": "stream",
          "text": [
            "/home/ljuusola/Projects/RL/venv/lib/python3.12/site-packages/tqdm/auto.py:21: TqdmWarning: IProgress not found. Please update jupyter and ipywidgets. See https://ipywidgets.readthedocs.io/en/stable/user_install.html\n",
            "  from .autonotebook import tqdm as notebook_tqdm\n"
          ]
        }
      ],
      "source": [
        "import gymnasium\n",
        "\n",
        "# %matplotlib qtagg\n",
        "# import matplotlib\n",
        "# matplotlib.use(\"qtagg\")\n",
        "\n",
        "from huggingface_sb3 import load_from_hub, package_to_hub\n",
        "from huggingface_hub import notebook_login # To log to our Hugging Face account to be able to upload models to the Hub.\n",
        "\n",
        "from stable_baselines3 import PPO\n",
        "from stable_baselines3.common.env_util import make_vec_env\n",
        "from stable_baselines3.common.evaluation import evaluate_policy\n",
        "from stable_baselines3.common.monitor import Monitor"
      ]
    },
    {
      "cell_type": "markdown",
      "metadata": {
        "id": "MRqRuRUl8CsB"
      },
      "source": [
        "## Understand Gymnasium and how it works 🤖\n",
        "\n",
        "🏋 The library containing our environment is called Gymnasium.\n",
        "**You'll use Gymnasium a lot in Deep Reinforcement Learning.**\n",
        "\n",
        "Gymnasium is the **new version of Gym library** [maintained by the Farama Foundation](https://farama.org/).\n",
        "\n",
        "The Gymnasium library provides two things:\n",
        "\n",
        "- An interface that allows you to **create RL environments**.\n",
        "- A **collection of environments** (gym-control, atari, box2D...).\n",
        "\n",
        "Let's look at an example, but first let's recall the RL loop."
      ]
    },
    {
      "cell_type": "markdown",
      "metadata": {
        "id": "-TzNN0bQ_j-3"
      },
      "source": [
        "At each step:\n",
        "- Our Agent receives a **state (S0)** from the **Environment** — we receive the first frame of our game (Environment).\n",
        "- Based on that **state (S0),** the Agent takes an **action (A0)** — our Agent will move to the right.\n",
        "- The environment transitions to a **new** **state (S1)** — new frame.\n",
        "- The environment gives some **reward (R1)** to the Agent — we’re not dead *(Positive Reward +1)*.\n",
        "\n",
        "\n",
        "With Gymnasium:\n",
        "\n",
        "1️⃣ We create our environment using `gymnasium.make()`\n",
        "\n",
        "2️⃣ We reset the environment to its initial state with `observation = env.reset()`\n",
        "\n",
        "At each step:\n",
        "\n",
        "3️⃣ Get an action using our model (in our example we take a random action)\n",
        "\n",
        "4️⃣ Using `env.step(action)`, we perform this action in the environment and get\n",
        "- `observation`: The new state (st+1)\n",
        "- `reward`: The reward we get after executing the action\n",
        "- `terminated`: Indicates if the episode terminated (agent reach the terminal state)\n",
        "- `truncated`: Introduced with this new version, it indicates a timelimit or if an agent go out of bounds of the environment for instance.\n",
        "- `info`: A dictionary that provides additional information (depends on the environment).\n",
        "\n",
        "For more explanations check this 👉 https://gymnasium.farama.org/api/env/#gymnasium.Env.step\n",
        "\n",
        "If the episode is terminated:\n",
        "- We reset the environment to its initial state with `observation = env.reset()`\n",
        "\n",
        "**Let's look at an example!** Make sure to read the code\n"
      ]
    },
    {
      "cell_type": "code",
      "execution_count": 3,
      "metadata": {
        "id": "w7vOFlpA_ONz"
      },
      "outputs": [
        {
          "name": "stdout",
          "output_type": "stream",
          "text": [
            "Action taken: 0\n",
            "Action taken: 2\n",
            "Action taken: 2\n",
            "Action taken: 2\n",
            "Action taken: 2\n",
            "Action taken: 3\n",
            "Action taken: 3\n",
            "Action taken: 1\n",
            "Action taken: 0\n",
            "Action taken: 0\n",
            "Action taken: 3\n",
            "Action taken: 1\n",
            "Action taken: 3\n",
            "Action taken: 3\n",
            "Action taken: 1\n",
            "Action taken: 0\n",
            "Action taken: 1\n",
            "Action taken: 1\n",
            "Action taken: 2\n",
            "Action taken: 3\n"
          ]
        },
        {
          "name": "stderr",
          "output_type": "stream",
          "text": [
            "/home/ljuusola/Projects/RL/venv/lib/python3.12/site-packages/pygame/pkgdata.py:25: UserWarning: pkg_resources is deprecated as an API. See https://setuptools.pypa.io/en/latest/pkg_resources.html. The pkg_resources package is slated for removal as early as 2025-11-30. Refrain from using this package or pin to Setuptools<81.\n",
            "  from pkg_resources import resource_stream, resource_exists\n"
          ]
        }
      ],
      "source": [
        "import gymnasium as gym\n",
        "\n",
        "# First, we create our environment called LunarLander-v2\n",
        "env = gym.make(\"LunarLander-v2\")\n",
        "\n",
        "# Then we reset this environment\n",
        "observation, info = env.reset()\n",
        "\n",
        "for _ in range(20):\n",
        "  # Take a random action\n",
        "  action = env.action_space.sample()\n",
        "  print(\"Action taken:\", action)\n",
        "\n",
        "  # Do this action in the environment and get\n",
        "  # next_state, reward, terminated, truncated and info\n",
        "  observation, reward, terminated, truncated, info = env.step(action)\n",
        "\n",
        "  # If the game is terminated (in our case we land, crashed) or truncated (timeout)\n",
        "  if terminated or truncated:\n",
        "      # Reset the environment\n",
        "      print(\"Environment is reset\")\n",
        "      observation, info = env.reset()\n",
        "\n",
        "env.close()"
      ]
    },
    {
      "cell_type": "markdown",
      "metadata": {
        "id": "XIrKGGSlENZB"
      },
      "source": [
        "## Create the LunarLander environment 🌛 and understand how it works\n",
        "\n",
        "### [The environment 🎮](https://gymnasium.farama.org/environments/box2d/lunar_lander/)\n",
        "\n",
        "In this first tutorial, we’re going to train our agent, a [Lunar Lander](https://gymnasium.farama.org/environments/box2d/lunar_lander/), **to land correctly on the moon**. To do that, the agent needs to learn **to adapt its speed and position (horizontal, vertical, and angular) to land correctly.**\n",
        "\n",
        "---\n",
        "\n",
        "\n",
        "💡 A good habit when you start to use an environment is to check its documentation\n",
        "\n",
        "👉 https://gymnasium.farama.org/environments/box2d/lunar_lander/\n",
        "\n",
        "---\n"
      ]
    },
    {
      "cell_type": "markdown",
      "metadata": {
        "id": "poLBgRocF9aT"
      },
      "source": [
        "Let's see what the Environment looks like:\n"
      ]
    },
    {
      "cell_type": "code",
      "execution_count": 4,
      "metadata": {
        "id": "ZNPG0g_UGCfh"
      },
      "outputs": [
        {
          "name": "stdout",
          "output_type": "stream",
          "text": [
            "_____OBSERVATION SPACE_____ \n",
            "\n",
            "Observation Space Shape (8,)\n",
            "Sample observation [-70.010155   -59.265293    -2.3047366    3.0244095   -0.42386016\n",
            "   2.2897978    0.22813515   0.9668279 ]\n"
          ]
        }
      ],
      "source": [
        "# We create our environment with gym.make(\"<name_of_the_environment>\")\n",
        "env = gym.make(\"LunarLander-v2\")\n",
        "env.reset()\n",
        "print(\"_____OBSERVATION SPACE_____ \\n\")\n",
        "print(\"Observation Space Shape\", env.observation_space.shape)\n",
        "print(\"Sample observation\", env.observation_space.sample()) # Get a random observation"
      ]
    },
    {
      "cell_type": "markdown",
      "metadata": {
        "id": "2MXc15qFE0M9"
      },
      "source": [
        "We see with `Observation Space Shape (8,)` that the observation is a vector of size 8, where each value contains different information about the lander:\n",
        "- Horizontal pad coordinate (x)\n",
        "- Vertical pad coordinate (y)\n",
        "- Horizontal speed (x)\n",
        "- Vertical speed (y)\n",
        "- Angle\n",
        "- Angular speed\n",
        "- If the left leg contact point has touched the land (boolean)\n",
        "- If the right leg contact point has touched the land (boolean)\n"
      ]
    },
    {
      "cell_type": "code",
      "execution_count": 5,
      "metadata": {
        "id": "We5WqOBGLoSm"
      },
      "outputs": [
        {
          "name": "stdout",
          "output_type": "stream",
          "text": [
            "\n",
            " _____ACTION SPACE_____ \n",
            "\n",
            "Action Space Shape 4\n",
            "Action Space Sample 3\n"
          ]
        }
      ],
      "source": [
        "print(\"\\n _____ACTION SPACE_____ \\n\")\n",
        "print(\"Action Space Shape\", env.action_space.n)\n",
        "print(\"Action Space Sample\", env.action_space.sample()) # Take a random action"
      ]
    },
    {
      "cell_type": "markdown",
      "metadata": {
        "id": "MyxXwkI2Magx"
      },
      "source": [
        "The action space (the set of possible actions the agent can take) is discrete with 4 actions available 🎮:\n",
        "\n",
        "- Action 0: Do nothing,\n",
        "- Action 1: Fire left orientation engine,\n",
        "- Action 2: Fire the main engine,\n",
        "- Action 3: Fire right orientation engine.\n",
        "\n",
        "Reward function (the function that will give a reward at each timestep) 💰:\n",
        "\n",
        "After every step a reward is granted. The total reward of an episode is the **sum of the rewards for all the steps within that episode**.\n",
        "\n",
        "For each step, the reward:\n",
        "\n",
        "- Is increased/decreased the closer/further the lander is to the landing pad.\n",
        "-  Is increased/decreased the slower/faster the lander is moving.\n",
        "- Is decreased the more the lander is tilted (angle not horizontal).\n",
        "- Is increased by 10 points for each leg that is in contact with the ground.\n",
        "- Is decreased by 0.03 points each frame a side engine is firing.\n",
        "- Is decreased by 0.3 points each frame the main engine is firing.\n",
        "\n",
        "The episode receive an **additional reward of -100 or +100 points for crashing or landing safely respectively.**\n",
        "\n",
        "An episode is **considered a solution if it scores at least 200 points.**"
      ]
    },
    {
      "cell_type": "markdown",
      "metadata": {
        "id": "dFD9RAFjG8aq"
      },
      "source": [
        "#### Vectorized Environment\n",
        "\n",
        "- We create a vectorized environment (a method for stacking multiple independent environments into a single environment) of 16 environments, this way, **we'll have more diverse experiences during the training.**"
      ]
    },
    {
      "cell_type": "code",
      "execution_count": 6,
      "metadata": {
        "id": "99hqQ_etEy1N"
      },
      "outputs": [],
      "source": [
        "# Create the environment\n",
        "env = make_vec_env('LunarLander-v2', n_envs=16)"
      ]
    },
    {
      "cell_type": "markdown",
      "metadata": {
        "id": "VgrE86r5E5IK"
      },
      "source": [
        "## Create the Model 🤖\n",
        "- We have studied our environment and we understood the problem: **being able to land the Lunar Lander to the Landing Pad correctly by controlling left, right and main orientation engine**. Now let's build the algorithm we're going to use to solve this Problem 🚀.\n",
        "\n",
        "- To do so, we're going to use our first Deep RL library, [Stable Baselines3 (SB3)](https://stable-baselines3.readthedocs.io/en/master/).\n",
        "\n",
        "- SB3 is a set of **reliable implementations of reinforcement learning algorithms in PyTorch**.\n",
        "\n",
        "---\n",
        "\n",
        "💡 A good habit when using a new library is to dive first on the documentation: https://stable-baselines3.readthedocs.io/en/master/ and then try some tutorials.\n",
        "\n",
        "----"
      ]
    },
    {
      "cell_type": "markdown",
      "metadata": {
        "id": "HLlClRW37Q7e"
      },
      "source": [
        "<img src=\"https://huggingface.co/datasets/huggingface-deep-rl-course/course-images/resolve/main/en/unit1/sb3.png\" alt=\"Stable Baselines3\">"
      ]
    },
    {
      "cell_type": "markdown",
      "metadata": {
        "id": "HV4yiUM_9_Ka"
      },
      "source": [
        "To solve this problem, we're going to use SB3 **PPO**. [PPO (aka Proximal Policy Optimization) is one of the SOTA (state of the art) Deep Reinforcement Learning algorithms that you'll study during this course](https://stable-baselines3.readthedocs.io/en/master/modules/ppo.html#example%5D).\n",
        "\n",
        "PPO is a combination of:\n",
        "- *Value-based reinforcement learning method*: learning an action-value function that will tell us the **most valuable action to take given a state and action**.\n",
        "- *Policy-based reinforcement learning method*: learning a policy that will **give us a probability distribution over actions**."
      ]
    },
    {
      "cell_type": "markdown",
      "metadata": {
        "id": "5qL_4HeIOrEJ"
      },
      "source": [
        "Stable-Baselines3 is easy to set up:\n",
        "\n",
        "1️⃣ You **create your environment** (in our case it was done above)\n",
        "\n",
        "2️⃣ You define the **model you want to use and instantiate this model** `model = PPO(\"MlpPolicy\")`\n",
        "\n",
        "3️⃣ You **train the agent** with `model.learn` and define the number of training timesteps\n",
        "\n",
        "```\n",
        "# Create environment\n",
        "env = gym.make('LunarLander-v2')\n",
        "\n",
        "# Instantiate the agent\n",
        "model = PPO('MlpPolicy', env, verbose=1)\n",
        "# Train the agent\n",
        "model.learn(total_timesteps=int(2e5))\n",
        "```\n",
        "\n"
      ]
    },
    {
      "cell_type": "code",
      "execution_count": 7,
      "metadata": {
        "id": "nxI6hT1GE4-A"
      },
      "outputs": [
        {
          "name": "stdout",
          "output_type": "stream",
          "text": [
            "Using cuda device\n"
          ]
        }
      ],
      "source": [
        "# TODO: Define a PPO MlpPolicy architecture\n",
        "# We use MultiLayerPerceptron (MLPPolicy) because the input is a vector,\n",
        "# if we had frames as input we would use CnnPolicy\n",
        "model = PPO('MlpPolicy', env, verbose=1)"
      ]
    },
    {
      "cell_type": "markdown",
      "metadata": {
        "id": "QAN7B0_HCVZC"
      },
      "source": [
        "#### Solution"
      ]
    },
    {
      "cell_type": "code",
      "execution_count": null,
      "metadata": {
        "id": "543OHYDfcjK4"
      },
      "outputs": [],
      "source": [
        "# # SOLUTION\n",
        "# # We added some parameters to accelerate the training\n",
        "# model = PPO(\n",
        "#     policy = 'MlpPolicy',\n",
        "#     env = env,\n",
        "#     n_steps = 1024,\n",
        "#     batch_size = 64,\n",
        "#     n_epochs = 4,\n",
        "#     gamma = 0.999,\n",
        "#     gae_lambda = 0.98,\n",
        "#     ent_coef = 0.01,\n",
        "#     verbose=1)"
      ]
    },
    {
      "cell_type": "markdown",
      "metadata": {
        "id": "ClJJk88yoBUi"
      },
      "source": [
        "## Train the PPO agent 🏃\n",
        "- Let's train our agent for 1,000,000 timesteps, don't forget to use GPU on Colab. It will take approximately ~20min, but you can use fewer timesteps if you just want to try it out.\n",
        "- During the training, take a ☕ break you deserved it 🤗"
      ]
    },
    {
      "cell_type": "code",
      "execution_count": 8,
      "metadata": {
        "id": "poBCy9u_csyR"
      },
      "outputs": [
        {
          "name": "stdout",
          "output_type": "stream",
          "text": [
            "---------------------------------\n",
            "| rollout/           |          |\n",
            "|    ep_len_mean     | 94.8     |\n",
            "|    ep_rew_mean     | -178     |\n",
            "| time/              |          |\n",
            "|    fps             | 3664     |\n",
            "|    iterations      | 1        |\n",
            "|    time_elapsed    | 8        |\n",
            "|    total_timesteps | 32768    |\n",
            "---------------------------------\n",
            "------------------------------------------\n",
            "| rollout/                |              |\n",
            "|    ep_len_mean          | 99.2         |\n",
            "|    ep_rew_mean          | -144         |\n",
            "| time/                   |              |\n",
            "|    fps                  | 1439         |\n",
            "|    iterations           | 2            |\n",
            "|    time_elapsed         | 45           |\n",
            "|    total_timesteps      | 65536        |\n",
            "| train/                  |              |\n",
            "|    approx_kl            | 0.011213642  |\n",
            "|    clip_fraction        | 0.0831       |\n",
            "|    clip_range           | 0.2          |\n",
            "|    entropy_loss         | -1.38        |\n",
            "|    explained_variance   | -0.001425147 |\n",
            "|    learning_rate        | 0.0003       |\n",
            "|    loss                 | 283          |\n",
            "|    n_updates            | 10           |\n",
            "|    policy_gradient_loss | -0.00639     |\n",
            "|    value_loss           | 686          |\n",
            "------------------------------------------\n",
            "-----------------------------------------\n",
            "| rollout/                |             |\n",
            "|    ep_len_mean          | 103         |\n",
            "|    ep_rew_mean          | -97.4       |\n",
            "| time/                   |             |\n",
            "|    fps                  | 1225        |\n",
            "|    iterations           | 3           |\n",
            "|    time_elapsed         | 80          |\n",
            "|    total_timesteps      | 98304       |\n",
            "| train/                  |             |\n",
            "|    approx_kl            | 0.012184738 |\n",
            "|    clip_fraction        | 0.156       |\n",
            "|    clip_range           | 0.2         |\n",
            "|    entropy_loss         | -1.35       |\n",
            "|    explained_variance   | 0.49867988  |\n",
            "|    learning_rate        | 0.0003      |\n",
            "|    loss                 | 188         |\n",
            "|    n_updates            | 20          |\n",
            "|    policy_gradient_loss | -0.0129     |\n",
            "|    value_loss           | 311         |\n",
            "-----------------------------------------\n",
            "-----------------------------------------\n",
            "| rollout/                |             |\n",
            "|    ep_len_mean          | 123         |\n",
            "|    ep_rew_mean          | -75.7       |\n",
            "| time/                   |             |\n",
            "|    fps                  | 1102        |\n",
            "|    iterations           | 4           |\n",
            "|    time_elapsed         | 118         |\n",
            "|    total_timesteps      | 131072      |\n",
            "| train/                  |             |\n",
            "|    approx_kl            | 0.013590619 |\n",
            "|    clip_fraction        | 0.232       |\n",
            "|    clip_range           | 0.2         |\n",
            "|    entropy_loss         | -1.3        |\n",
            "|    explained_variance   | 0.658029    |\n",
            "|    learning_rate        | 0.0003      |\n",
            "|    loss                 | 54.6        |\n",
            "|    n_updates            | 30          |\n",
            "|    policy_gradient_loss | -0.0191     |\n",
            "|    value_loss           | 211         |\n",
            "-----------------------------------------\n",
            "-----------------------------------------\n",
            "| rollout/                |             |\n",
            "|    ep_len_mean          | 140         |\n",
            "|    ep_rew_mean          | -46.4       |\n",
            "| time/                   |             |\n",
            "|    fps                  | 1019        |\n",
            "|    iterations           | 5           |\n",
            "|    time_elapsed         | 160         |\n",
            "|    total_timesteps      | 163840      |\n",
            "| train/                  |             |\n",
            "|    approx_kl            | 0.015115061 |\n",
            "|    clip_fraction        | 0.238       |\n",
            "|    clip_range           | 0.2         |\n",
            "|    entropy_loss         | -1.23       |\n",
            "|    explained_variance   | 0.7268034   |\n",
            "|    learning_rate        | 0.0003      |\n",
            "|    loss                 | 44.9        |\n",
            "|    n_updates            | 40          |\n",
            "|    policy_gradient_loss | -0.0228     |\n",
            "|    value_loss           | 132         |\n",
            "-----------------------------------------\n",
            "-----------------------------------------\n",
            "| rollout/                |             |\n",
            "|    ep_len_mean          | 165         |\n",
            "|    ep_rew_mean          | -26.3       |\n",
            "| time/                   |             |\n",
            "|    fps                  | 925         |\n",
            "|    iterations           | 6           |\n",
            "|    time_elapsed         | 212         |\n",
            "|    total_timesteps      | 196608      |\n",
            "| train/                  |             |\n",
            "|    approx_kl            | 0.014596021 |\n",
            "|    clip_fraction        | 0.212       |\n",
            "|    clip_range           | 0.2         |\n",
            "|    entropy_loss         | -1.16       |\n",
            "|    explained_variance   | 0.8257146   |\n",
            "|    learning_rate        | 0.0003      |\n",
            "|    loss                 | 31.2        |\n",
            "|    n_updates            | 50          |\n",
            "|    policy_gradient_loss | -0.0211     |\n",
            "|    value_loss           | 77.9        |\n",
            "-----------------------------------------\n",
            "-----------------------------------------\n",
            "| rollout/                |             |\n",
            "|    ep_len_mean          | 300         |\n",
            "|    ep_rew_mean          | -20.4       |\n",
            "| time/                   |             |\n",
            "|    fps                  | 839         |\n",
            "|    iterations           | 7           |\n",
            "|    time_elapsed         | 273         |\n",
            "|    total_timesteps      | 229376      |\n",
            "| train/                  |             |\n",
            "|    approx_kl            | 0.015364433 |\n",
            "|    clip_fraction        | 0.194       |\n",
            "|    clip_range           | 0.2         |\n",
            "|    entropy_loss         | -1.08       |\n",
            "|    explained_variance   | 0.89492166  |\n",
            "|    learning_rate        | 0.0003      |\n",
            "|    loss                 | 32.1        |\n",
            "|    n_updates            | 60          |\n",
            "|    policy_gradient_loss | -0.0201     |\n",
            "|    value_loss           | 53.6        |\n",
            "-----------------------------------------\n",
            "----------------------------------------\n",
            "| rollout/                |            |\n",
            "|    ep_len_mean          | 446        |\n",
            "|    ep_rew_mean          | -12.2      |\n",
            "| time/                   |            |\n",
            "|    fps                  | 758        |\n",
            "|    iterations           | 8          |\n",
            "|    time_elapsed         | 345        |\n",
            "|    total_timesteps      | 262144     |\n",
            "| train/                  |            |\n",
            "|    approx_kl            | 0.00921247 |\n",
            "|    clip_fraction        | 0.114      |\n",
            "|    clip_range           | 0.2        |\n",
            "|    entropy_loss         | -1.11      |\n",
            "|    explained_variance   | 0.89688325 |\n",
            "|    learning_rate        | 0.0003     |\n",
            "|    loss                 | 10.3       |\n",
            "|    n_updates            | 70         |\n",
            "|    policy_gradient_loss | -0.0111    |\n",
            "|    value_loss           | 50.7       |\n",
            "----------------------------------------\n",
            "-----------------------------------------\n",
            "| rollout/                |             |\n",
            "|    ep_len_mean          | 613         |\n",
            "|    ep_rew_mean          | 9.39        |\n",
            "| time/                   |             |\n",
            "|    fps                  | 707         |\n",
            "|    iterations           | 9           |\n",
            "|    time_elapsed         | 416         |\n",
            "|    total_timesteps      | 294912      |\n",
            "| train/                  |             |\n",
            "|    approx_kl            | 0.013096521 |\n",
            "|    clip_fraction        | 0.113       |\n",
            "|    clip_range           | 0.2         |\n",
            "|    entropy_loss         | -1.11       |\n",
            "|    explained_variance   | 0.89945334  |\n",
            "|    learning_rate        | 0.0003      |\n",
            "|    loss                 | 12.5        |\n",
            "|    n_updates            | 80          |\n",
            "|    policy_gradient_loss | -0.00906    |\n",
            "|    value_loss           | 43.8        |\n",
            "-----------------------------------------\n",
            "-----------------------------------------\n",
            "| rollout/                |             |\n",
            "|    ep_len_mean          | 764         |\n",
            "|    ep_rew_mean          | 36.6        |\n",
            "| time/                   |             |\n",
            "|    fps                  | 666         |\n",
            "|    iterations           | 10          |\n",
            "|    time_elapsed         | 491         |\n",
            "|    total_timesteps      | 327680      |\n",
            "| train/                  |             |\n",
            "|    approx_kl            | 0.010607507 |\n",
            "|    clip_fraction        | 0.105       |\n",
            "|    clip_range           | 0.2         |\n",
            "|    entropy_loss         | -1.11       |\n",
            "|    explained_variance   | 0.9043514   |\n",
            "|    learning_rate        | 0.0003      |\n",
            "|    loss                 | 25.8        |\n",
            "|    n_updates            | 90          |\n",
            "|    policy_gradient_loss | -0.00778    |\n",
            "|    value_loss           | 29.2        |\n",
            "-----------------------------------------\n",
            "-----------------------------------------\n",
            "| rollout/                |             |\n",
            "|    ep_len_mean          | 875         |\n",
            "|    ep_rew_mean          | 57          |\n",
            "| time/                   |             |\n",
            "|    fps                  | 638         |\n",
            "|    iterations           | 11          |\n",
            "|    time_elapsed         | 564         |\n",
            "|    total_timesteps      | 360448      |\n",
            "| train/                  |             |\n",
            "|    approx_kl            | 0.009081475 |\n",
            "|    clip_fraction        | 0.102       |\n",
            "|    clip_range           | 0.2         |\n",
            "|    entropy_loss         | -1.08       |\n",
            "|    explained_variance   | 0.9177143   |\n",
            "|    learning_rate        | 0.0003      |\n",
            "|    loss                 | 4.23        |\n",
            "|    n_updates            | 100         |\n",
            "|    policy_gradient_loss | -0.0063     |\n",
            "|    value_loss           | 19.5        |\n",
            "-----------------------------------------\n",
            "-----------------------------------------\n",
            "| rollout/                |             |\n",
            "|    ep_len_mean          | 911         |\n",
            "|    ep_rew_mean          | 75          |\n",
            "| time/                   |             |\n",
            "|    fps                  | 621         |\n",
            "|    iterations           | 12          |\n",
            "|    time_elapsed         | 632         |\n",
            "|    total_timesteps      | 393216      |\n",
            "| train/                  |             |\n",
            "|    approx_kl            | 0.010212305 |\n",
            "|    clip_fraction        | 0.1         |\n",
            "|    clip_range           | 0.2         |\n",
            "|    entropy_loss         | -1.07       |\n",
            "|    explained_variance   | 0.94060737  |\n",
            "|    learning_rate        | 0.0003      |\n",
            "|    loss                 | 1.86        |\n",
            "|    n_updates            | 110         |\n",
            "|    policy_gradient_loss | -0.006      |\n",
            "|    value_loss           | 10.8        |\n",
            "-----------------------------------------\n",
            "-----------------------------------------\n",
            "| rollout/                |             |\n",
            "|    ep_len_mean          | 934         |\n",
            "|    ep_rew_mean          | 91.2        |\n",
            "| time/                   |             |\n",
            "|    fps                  | 608         |\n",
            "|    iterations           | 13          |\n",
            "|    time_elapsed         | 699         |\n",
            "|    total_timesteps      | 425984      |\n",
            "| train/                  |             |\n",
            "|    approx_kl            | 0.008166063 |\n",
            "|    clip_fraction        | 0.086       |\n",
            "|    clip_range           | 0.2         |\n",
            "|    entropy_loss         | -1.06       |\n",
            "|    explained_variance   | 0.92273253  |\n",
            "|    learning_rate        | 0.0003      |\n",
            "|    loss                 | 9.04        |\n",
            "|    n_updates            | 120         |\n",
            "|    policy_gradient_loss | -0.00473    |\n",
            "|    value_loss           | 15          |\n",
            "-----------------------------------------\n",
            "-----------------------------------------\n",
            "| rollout/                |             |\n",
            "|    ep_len_mean          | 951         |\n",
            "|    ep_rew_mean          | 107         |\n",
            "| time/                   |             |\n",
            "|    fps                  | 596         |\n",
            "|    iterations           | 14          |\n",
            "|    time_elapsed         | 769         |\n",
            "|    total_timesteps      | 458752      |\n",
            "| train/                  |             |\n",
            "|    approx_kl            | 0.009206381 |\n",
            "|    clip_fraction        | 0.0811      |\n",
            "|    clip_range           | 0.2         |\n",
            "|    entropy_loss         | -0.997      |\n",
            "|    explained_variance   | 0.9306942   |\n",
            "|    learning_rate        | 0.0003      |\n",
            "|    loss                 | 32.1        |\n",
            "|    n_updates            | 130         |\n",
            "|    policy_gradient_loss | -0.00447    |\n",
            "|    value_loss           | 13.9        |\n",
            "-----------------------------------------\n",
            "-----------------------------------------\n",
            "| rollout/                |             |\n",
            "|    ep_len_mean          | 950         |\n",
            "|    ep_rew_mean          | 115         |\n",
            "| time/                   |             |\n",
            "|    fps                  | 586         |\n",
            "|    iterations           | 15          |\n",
            "|    time_elapsed         | 837         |\n",
            "|    total_timesteps      | 491520      |\n",
            "| train/                  |             |\n",
            "|    approx_kl            | 0.006660396 |\n",
            "|    clip_fraction        | 0.0649      |\n",
            "|    clip_range           | 0.2         |\n",
            "|    entropy_loss         | -0.956      |\n",
            "|    explained_variance   | 0.9577236   |\n",
            "|    learning_rate        | 0.0003      |\n",
            "|    loss                 | 4.03        |\n",
            "|    n_updates            | 140         |\n",
            "|    policy_gradient_loss | -0.00422    |\n",
            "|    value_loss           | 9.83        |\n",
            "-----------------------------------------\n",
            "------------------------------------------\n",
            "| rollout/                |              |\n",
            "|    ep_len_mean          | 920          |\n",
            "|    ep_rew_mean          | 117          |\n",
            "| time/                   |              |\n",
            "|    fps                  | 581          |\n",
            "|    iterations           | 16           |\n",
            "|    time_elapsed         | 901          |\n",
            "|    total_timesteps      | 524288       |\n",
            "| train/                  |              |\n",
            "|    approx_kl            | 0.0056530964 |\n",
            "|    clip_fraction        | 0.0559       |\n",
            "|    clip_range           | 0.2          |\n",
            "|    entropy_loss         | -0.919       |\n",
            "|    explained_variance   | 0.9393258    |\n",
            "|    learning_rate        | 0.0003       |\n",
            "|    loss                 | 1.46         |\n",
            "|    n_updates            | 150          |\n",
            "|    policy_gradient_loss | -0.00337     |\n",
            "|    value_loss           | 15.4         |\n",
            "------------------------------------------\n",
            "----------------------------------------\n",
            "| rollout/                |            |\n",
            "|    ep_len_mean          | 921        |\n",
            "|    ep_rew_mean          | 123        |\n",
            "| time/                   |            |\n",
            "|    fps                  | 576        |\n",
            "|    iterations           | 17         |\n",
            "|    time_elapsed         | 965        |\n",
            "|    total_timesteps      | 557056     |\n",
            "| train/                  |            |\n",
            "|    approx_kl            | 0.00723248 |\n",
            "|    clip_fraction        | 0.0685     |\n",
            "|    clip_range           | 0.2        |\n",
            "|    entropy_loss         | -0.867     |\n",
            "|    explained_variance   | 0.9369564  |\n",
            "|    learning_rate        | 0.0003     |\n",
            "|    loss                 | 2.54       |\n",
            "|    n_updates            | 160        |\n",
            "|    policy_gradient_loss | -0.00294   |\n",
            "|    value_loss           | 17.1       |\n",
            "----------------------------------------\n",
            "-----------------------------------------\n",
            "| rollout/                |             |\n",
            "|    ep_len_mean          | 928         |\n",
            "|    ep_rew_mean          | 144         |\n",
            "| time/                   |             |\n",
            "|    fps                  | 574         |\n",
            "|    iterations           | 18          |\n",
            "|    time_elapsed         | 1027        |\n",
            "|    total_timesteps      | 589824      |\n",
            "| train/                  |             |\n",
            "|    approx_kl            | 0.006675234 |\n",
            "|    clip_fraction        | 0.0722      |\n",
            "|    clip_range           | 0.2         |\n",
            "|    entropy_loss         | -0.829      |\n",
            "|    explained_variance   | 0.95870996  |\n",
            "|    learning_rate        | 0.0003      |\n",
            "|    loss                 | 5.75        |\n",
            "|    n_updates            | 170         |\n",
            "|    policy_gradient_loss | -0.00512    |\n",
            "|    value_loss           | 11.4        |\n",
            "-----------------------------------------\n",
            "------------------------------------------\n",
            "| rollout/                |              |\n",
            "|    ep_len_mean          | 934          |\n",
            "|    ep_rew_mean          | 158          |\n",
            "| time/                   |              |\n",
            "|    fps                  | 570          |\n",
            "|    iterations           | 19           |\n",
            "|    time_elapsed         | 1091         |\n",
            "|    total_timesteps      | 622592       |\n",
            "| train/                  |              |\n",
            "|    approx_kl            | 0.0059587294 |\n",
            "|    clip_fraction        | 0.0885       |\n",
            "|    clip_range           | 0.2          |\n",
            "|    entropy_loss         | -0.768       |\n",
            "|    explained_variance   | 0.90918297   |\n",
            "|    learning_rate        | 0.0003       |\n",
            "|    loss                 | 67.6         |\n",
            "|    n_updates            | 180          |\n",
            "|    policy_gradient_loss | -0.00487     |\n",
            "|    value_loss           | 29.8         |\n",
            "------------------------------------------\n",
            "------------------------------------------\n",
            "| rollout/                |              |\n",
            "|    ep_len_mean          | 891          |\n",
            "|    ep_rew_mean          | 176          |\n",
            "| time/                   |              |\n",
            "|    fps                  | 559          |\n",
            "|    iterations           | 20           |\n",
            "|    time_elapsed         | 1171         |\n",
            "|    total_timesteps      | 655360       |\n",
            "| train/                  |              |\n",
            "|    approx_kl            | 0.0045957956 |\n",
            "|    clip_fraction        | 0.0512       |\n",
            "|    clip_range           | 0.2          |\n",
            "|    entropy_loss         | -0.755       |\n",
            "|    explained_variance   | 0.9389915    |\n",
            "|    learning_rate        | 0.0003       |\n",
            "|    loss                 | 0.364        |\n",
            "|    n_updates            | 190          |\n",
            "|    policy_gradient_loss | -0.00242     |\n",
            "|    value_loss           | 19.1         |\n",
            "------------------------------------------\n",
            "------------------------------------------\n",
            "| rollout/                |              |\n",
            "|    ep_len_mean          | 773          |\n",
            "|    ep_rew_mean          | 195          |\n",
            "| time/                   |              |\n",
            "|    fps                  | 557          |\n",
            "|    iterations           | 21           |\n",
            "|    time_elapsed         | 1235         |\n",
            "|    total_timesteps      | 688128       |\n",
            "| train/                  |              |\n",
            "|    approx_kl            | 0.0055806437 |\n",
            "|    clip_fraction        | 0.0867       |\n",
            "|    clip_range           | 0.2          |\n",
            "|    entropy_loss         | -0.697       |\n",
            "|    explained_variance   | 0.8706423    |\n",
            "|    learning_rate        | 0.0003       |\n",
            "|    loss                 | 5.62         |\n",
            "|    n_updates            | 200          |\n",
            "|    policy_gradient_loss | -0.00372     |\n",
            "|    value_loss           | 52.8         |\n",
            "------------------------------------------\n",
            "-----------------------------------------\n",
            "| rollout/                |             |\n",
            "|    ep_len_mean          | 541         |\n",
            "|    ep_rew_mean          | 221         |\n",
            "| time/                   |             |\n",
            "|    fps                  | 557         |\n",
            "|    iterations           | 22          |\n",
            "|    time_elapsed         | 1291        |\n",
            "|    total_timesteps      | 720896      |\n",
            "| train/                  |             |\n",
            "|    approx_kl            | 0.011060282 |\n",
            "|    clip_fraction        | 0.0974      |\n",
            "|    clip_range           | 0.2         |\n",
            "|    entropy_loss         | -0.684      |\n",
            "|    explained_variance   | 0.8314498   |\n",
            "|    learning_rate        | 0.0003      |\n",
            "|    loss                 | 42.4        |\n",
            "|    n_updates            | 210         |\n",
            "|    policy_gradient_loss | -0.00435    |\n",
            "|    value_loss           | 83.2        |\n",
            "-----------------------------------------\n",
            "-----------------------------------------\n",
            "| rollout/                |             |\n",
            "|    ep_len_mean          | 428         |\n",
            "|    ep_rew_mean          | 227         |\n",
            "| time/                   |             |\n",
            "|    fps                  | 559         |\n",
            "|    iterations           | 23          |\n",
            "|    time_elapsed         | 1347        |\n",
            "|    total_timesteps      | 753664      |\n",
            "| train/                  |             |\n",
            "|    approx_kl            | 0.013329361 |\n",
            "|    clip_fraction        | 0.1         |\n",
            "|    clip_range           | 0.2         |\n",
            "|    entropy_loss         | -0.713      |\n",
            "|    explained_variance   | 0.7363136   |\n",
            "|    learning_rate        | 0.0003      |\n",
            "|    loss                 | 70.5        |\n",
            "|    n_updates            | 220         |\n",
            "|    policy_gradient_loss | -0.00609    |\n",
            "|    value_loss           | 127         |\n",
            "-----------------------------------------\n",
            "------------------------------------------\n",
            "| rollout/                |              |\n",
            "|    ep_len_mean          | 379          |\n",
            "|    ep_rew_mean          | 236          |\n",
            "| time/                   |              |\n",
            "|    fps                  | 560          |\n",
            "|    iterations           | 24           |\n",
            "|    time_elapsed         | 1403         |\n",
            "|    total_timesteps      | 786432       |\n",
            "| train/                  |              |\n",
            "|    approx_kl            | 0.0088806655 |\n",
            "|    clip_fraction        | 0.0845       |\n",
            "|    clip_range           | 0.2          |\n",
            "|    entropy_loss         | -0.744       |\n",
            "|    explained_variance   | 0.81900275   |\n",
            "|    learning_rate        | 0.0003       |\n",
            "|    loss                 | 35.8         |\n",
            "|    n_updates            | 230          |\n",
            "|    policy_gradient_loss | -0.00223     |\n",
            "|    value_loss           | 93.2         |\n",
            "------------------------------------------\n",
            "-----------------------------------------\n",
            "| rollout/                |             |\n",
            "|    ep_len_mean          | 384         |\n",
            "|    ep_rew_mean          | 231         |\n",
            "| time/                   |             |\n",
            "|    fps                  | 560         |\n",
            "|    iterations           | 25          |\n",
            "|    time_elapsed         | 1460        |\n",
            "|    total_timesteps      | 819200      |\n",
            "| train/                  |             |\n",
            "|    approx_kl            | 0.008308212 |\n",
            "|    clip_fraction        | 0.088       |\n",
            "|    clip_range           | 0.2         |\n",
            "|    entropy_loss         | -0.749      |\n",
            "|    explained_variance   | 0.8527231   |\n",
            "|    learning_rate        | 0.0003      |\n",
            "|    loss                 | 28.6        |\n",
            "|    n_updates            | 240         |\n",
            "|    policy_gradient_loss | -0.0013     |\n",
            "|    value_loss           | 70.6        |\n",
            "-----------------------------------------\n",
            "------------------------------------------\n",
            "| rollout/                |              |\n",
            "|    ep_len_mean          | 399          |\n",
            "|    ep_rew_mean          | 234          |\n",
            "| time/                   |              |\n",
            "|    fps                  | 558          |\n",
            "|    iterations           | 26           |\n",
            "|    time_elapsed         | 1525         |\n",
            "|    total_timesteps      | 851968       |\n",
            "| train/                  |              |\n",
            "|    approx_kl            | 0.0058302525 |\n",
            "|    clip_fraction        | 0.0696       |\n",
            "|    clip_range           | 0.2          |\n",
            "|    entropy_loss         | -0.752       |\n",
            "|    explained_variance   | 0.8941388    |\n",
            "|    learning_rate        | 0.0003       |\n",
            "|    loss                 | 43           |\n",
            "|    n_updates            | 250          |\n",
            "|    policy_gradient_loss | -0.00105     |\n",
            "|    value_loss           | 69.3         |\n",
            "------------------------------------------\n",
            "-----------------------------------------\n",
            "| rollout/                |             |\n",
            "|    ep_len_mean          | 356         |\n",
            "|    ep_rew_mean          | 249         |\n",
            "| time/                   |             |\n",
            "|    fps                  | 557         |\n",
            "|    iterations           | 27          |\n",
            "|    time_elapsed         | 1587        |\n",
            "|    total_timesteps      | 884736      |\n",
            "| train/                  |             |\n",
            "|    approx_kl            | 0.005882796 |\n",
            "|    clip_fraction        | 0.0628      |\n",
            "|    clip_range           | 0.2         |\n",
            "|    entropy_loss         | -0.725      |\n",
            "|    explained_variance   | 0.9211224   |\n",
            "|    learning_rate        | 0.0003      |\n",
            "|    loss                 | 42          |\n",
            "|    n_updates            | 260         |\n",
            "|    policy_gradient_loss | -0.00168    |\n",
            "|    value_loss           | 55.9        |\n",
            "-----------------------------------------\n",
            "------------------------------------------\n",
            "| rollout/                |              |\n",
            "|    ep_len_mean          | 369          |\n",
            "|    ep_rew_mean          | 243          |\n",
            "| time/                   |              |\n",
            "|    fps                  | 550          |\n",
            "|    iterations           | 28           |\n",
            "|    time_elapsed         | 1667         |\n",
            "|    total_timesteps      | 917504       |\n",
            "| train/                  |              |\n",
            "|    approx_kl            | 0.0054266322 |\n",
            "|    clip_fraction        | 0.0683       |\n",
            "|    clip_range           | 0.2          |\n",
            "|    entropy_loss         | -0.741       |\n",
            "|    explained_variance   | 0.9345263    |\n",
            "|    learning_rate        | 0.0003       |\n",
            "|    loss                 | 21.5         |\n",
            "|    n_updates            | 270          |\n",
            "|    policy_gradient_loss | -0.00125     |\n",
            "|    value_loss           | 47.6         |\n",
            "------------------------------------------\n",
            "------------------------------------------\n",
            "| rollout/                |              |\n",
            "|    ep_len_mean          | 310          |\n",
            "|    ep_rew_mean          | 250          |\n",
            "| time/                   |              |\n",
            "|    fps                  | 550          |\n",
            "|    iterations           | 29           |\n",
            "|    time_elapsed         | 1727         |\n",
            "|    total_timesteps      | 950272       |\n",
            "| train/                  |              |\n",
            "|    approx_kl            | 0.0049748644 |\n",
            "|    clip_fraction        | 0.0525       |\n",
            "|    clip_range           | 0.2          |\n",
            "|    entropy_loss         | -0.718       |\n",
            "|    explained_variance   | 0.9256168    |\n",
            "|    learning_rate        | 0.0003       |\n",
            "|    loss                 | 20.2         |\n",
            "|    n_updates            | 280          |\n",
            "|    policy_gradient_loss | -0.00127     |\n",
            "|    value_loss           | 65.5         |\n",
            "------------------------------------------\n",
            "-----------------------------------------\n",
            "| rollout/                |             |\n",
            "|    ep_len_mean          | 344         |\n",
            "|    ep_rew_mean          | 256         |\n",
            "| time/                   |             |\n",
            "|    fps                  | 550         |\n",
            "|    iterations           | 30          |\n",
            "|    time_elapsed         | 1785        |\n",
            "|    total_timesteps      | 983040      |\n",
            "| train/                  |             |\n",
            "|    approx_kl            | 0.004451257 |\n",
            "|    clip_fraction        | 0.0538      |\n",
            "|    clip_range           | 0.2         |\n",
            "|    entropy_loss         | -0.732      |\n",
            "|    explained_variance   | 0.9357109   |\n",
            "|    learning_rate        | 0.0003      |\n",
            "|    loss                 | 26.9        |\n",
            "|    n_updates            | 290         |\n",
            "|    policy_gradient_loss | -0.00104    |\n",
            "|    value_loss           | 55          |\n",
            "-----------------------------------------\n",
            "------------------------------------------\n",
            "| rollout/                |              |\n",
            "|    ep_len_mean          | 317          |\n",
            "|    ep_rew_mean          | 251          |\n",
            "| time/                   |              |\n",
            "|    fps                  | 555          |\n",
            "|    iterations           | 31           |\n",
            "|    time_elapsed         | 1830         |\n",
            "|    total_timesteps      | 1015808      |\n",
            "| train/                  |              |\n",
            "|    approx_kl            | 0.0065125404 |\n",
            "|    clip_fraction        | 0.069        |\n",
            "|    clip_range           | 0.2          |\n",
            "|    entropy_loss         | -0.702       |\n",
            "|    explained_variance   | 0.95434976   |\n",
            "|    learning_rate        | 0.0003       |\n",
            "|    loss                 | 9.54         |\n",
            "|    n_updates            | 300          |\n",
            "|    policy_gradient_loss | -0.00145     |\n",
            "|    value_loss           | 44.9         |\n",
            "------------------------------------------\n"
          ]
        }
      ],
      "source": [
        "# Train it for 1,000,000 timesteps\n",
        "model_name = \"ppo-LunarLander-v2\"\n",
        "\n",
        "model.learn(total_timesteps=1000000)\n",
        "# Save the model\n",
        "model.save(model_name)"
      ]
    },
    {
      "cell_type": "markdown",
      "metadata": {
        "id": "BY_HuedOoISR"
      },
      "source": [
        "## Evaluate the agent 📈\n",
        "- Remember to wrap the environment in a [Monitor](https://stable-baselines3.readthedocs.io/en/master/common/monitor.html).\n",
        "- Now that our Lunar Lander agent is trained 🚀, we need to **check its performance**.\n",
        "- Stable-Baselines3 provides a method to do that: `evaluate_policy`.\n",
        "- To fill that part you need to [check the documentation](https://stable-baselines3.readthedocs.io/en/master/guide/examples.html#basic-usage-training-saving-loading)\n",
        "- In the next step,  we'll see **how to automatically evaluate and share your agent to compete in a leaderboard, but for now let's do it ourselves**\n",
        "\n",
        "\n",
        "💡 When you evaluate your agent, you should not use your training environment but create an evaluation environment."
      ]
    },
    {
      "cell_type": "code",
      "execution_count": 9,
      "metadata": {
        "id": "yRpno0glsADy"
      },
      "outputs": [
        {
          "name": "stdout",
          "output_type": "stream",
          "text": [
            "mean_reward=271.09 +/- 10.263643666062439\n"
          ]
        }
      ],
      "source": [
        "# TODO: Evaluate the agent\n",
        "model = PPO.load(\"ppo-LunarLander-v2\", env=env)\n",
        "# NOTE: If you use wrappers with your environment that modify rewards,\n",
        "#       this will be reflected here. To evaluate with original rewards,\n",
        "#       wrap environment in a \"Monitor\" wrapper before other wrappers.\n",
        "\n",
        "# Create a new environment for evaluation\n",
        "eval_env = Monitor( gym.make('LunarLander-v2') )\n",
        "\n",
        "# Evaluate the agent\n",
        "# Evaluate the model with 10 evaluation episodes and deterministic=True\n",
        "mean_reward, std_reward = evaluate_policy(model, eval_env, n_eval_episodes=10, deterministic=True)\n",
        "\n",
        "# Print the results\n",
        "print(f\"mean_reward={mean_reward:.2f} +/- {std_reward}\")\n"
      ]
    },
    {
      "cell_type": "markdown",
      "metadata": {
        "id": "BqPKw3jt_pG5"
      },
      "source": [
        "#### Solution"
      ]
    },
    {
      "cell_type": "code",
      "execution_count": 11,
      "metadata": {
        "id": "zpz8kHlt_a_m"
      },
      "outputs": [
        {
          "name": "stdout",
          "output_type": "stream",
          "text": [
            "mean_reward=251.36 +/- 40.48197433904568\n"
          ]
        }
      ],
      "source": [
        "#@title\n",
        "eval_env = Monitor(gym.make(\"LunarLander-v2\", render_mode='rgb_array'))\n",
        "mean_reward, std_reward = evaluate_policy(model, eval_env, n_eval_episodes=10, deterministic=True)\n",
        "print(f\"mean_reward={mean_reward:.2f} +/- {std_reward}\")"
      ]
    },
    {
      "cell_type": "markdown",
      "metadata": {
        "id": "reBhoODwcXfr"
      },
      "source": [
        "- In my case, I got a mean reward of `200.20 +/- 20.80` after training for 1 million steps, which means that our lunar lander agent is ready to land on the moon 🌛🥳."
      ]
    },
    {
      "cell_type": "markdown",
      "metadata": {
        "id": "IK_kR78NoNb2"
      },
      "source": [
        "## Publish our trained model on the Hub 🔥\n",
        "Now that we saw we got good results after the training, we can publish our trained model on the hub 🤗 with one line of code.\n",
        "\n",
        "📚 The libraries documentation 👉 https://github.com/huggingface/huggingface_sb3/tree/main#hugging-face--x-stable-baselines3-v20\n",
        "\n",
        "Here's an example of a Model Card (with Space Invaders):"
      ]
    },
    {
      "cell_type": "markdown",
      "metadata": {
        "id": "Gs-Ew7e1gXN3"
      },
      "source": [
        "By using `package_to_hub` **you evaluate, record a replay, generate a model card of your agent and push it to the hub**.\n",
        "\n",
        "This way:\n",
        "- You can **showcase our work** 🔥\n",
        "- You can **visualize your agent playing** 👀\n",
        "- You can **share with the community an agent that others can use** 💾\n",
        "- You can **access a leaderboard 🏆 to see how well your agent is performing compared to your classmates** 👉 https://huggingface.co/spaces/huggingface-projects/Deep-Reinforcement-Learning-Leaderboard\n"
      ]
    },
    {
      "cell_type": "markdown",
      "metadata": {
        "id": "JquRrWytA6eo"
      },
      "source": [
        "To be able to share your model with the community there are three more steps to follow:\n",
        "\n",
        "1️⃣ (If it's not already done) create an account on Hugging Face ➡ https://huggingface.co/join\n",
        "\n",
        "2️⃣ Sign in and then, you need to store your authentication token from the Hugging Face website.\n",
        "- Create a new token (https://huggingface.co/settings/tokens) **with write role**\n",
        "\n",
        "<img src=\"https://huggingface.co/datasets/huggingface-deep-rl-course/course-images/resolve/main/en/notebooks/create-token.jpg\" alt=\"Create HF Token\">\n",
        "\n",
        "- Copy the token\n",
        "- Run the cell below and paste the token"
      ]
    },
    {
      "cell_type": "code",
      "execution_count": 13,
      "metadata": {
        "id": "GZiFBBlzxzxY"
      },
      "outputs": [
        {
          "data": {
            "application/vnd.jupyter.widget-view+json": {
              "model_id": "800adec6b2a747c9aa9c2fb891896e1b",
              "version_major": 2,
              "version_minor": 0
            },
            "text/plain": [
              "VBox(children=(HTML(value='<center> <img\\nsrc=https://huggingface.co/front/assets/huggingface_logo-noborder.sv…"
            ]
          },
          "metadata": {},
          "output_type": "display_data"
        }
      ],
      "source": [
        "notebook_login()\n",
        "!git config --global credential.helper store"
      ]
    },
    {
      "cell_type": "markdown",
      "metadata": {
        "id": "_tsf2uv0g_4p"
      },
      "source": [
        "If you don't want to use a Google Colab or a Jupyter Notebook, you need to use this command instead: `huggingface-cli login`"
      ]
    },
    {
      "cell_type": "markdown",
      "metadata": {
        "id": "FGNh9VsZok0i"
      },
      "source": [
        "3️⃣ We're now ready to push our trained agent to the 🤗 Hub 🔥 using `package_to_hub()` function"
      ]
    },
    {
      "cell_type": "markdown",
      "metadata": {
        "id": "Ay24l6bqFF18"
      },
      "source": [
        "Let's fill the `package_to_hub` function:\n",
        "- `model`: our trained model.\n",
        "- `model_name`: the name of the trained model that we defined in `model_save`\n",
        "- `model_architecture`: the model architecture we used, in our case PPO\n",
        "- `env_id`: the name of the environment, in our case `LunarLander-v2`\n",
        "- `eval_env`: the evaluation environment defined in eval_env\n",
        "- `repo_id`: the name of the Hugging Face Hub Repository that will be created/updated `(repo_id = {username}/{repo_name})`\n",
        "\n",
        "💡 **A good name is {username}/{model_architecture}-{env_id}**\n",
        "\n",
        "- `commit_message`: message of the commit"
      ]
    },
    {
      "cell_type": "code",
      "execution_count": 15,
      "metadata": {
        "id": "JPG7ofdGIHN8"
      },
      "outputs": [
        {
          "name": "stdout",
          "output_type": "stream",
          "text": [
            "\u001b[38;5;4mℹ This function will save, evaluate, generate a video of your agent,\n",
            "create a model card and push everything to the hub. It might take up to 1min.\n",
            "This is a work in progress: if you encounter a bug, please open an issue.\u001b[0m\n",
            "Saving video to /tmp/tmpq2j1vtfo/-step-0-to-step-1000.mp4\n",
            "MoviePy - Building video /tmp/tmpq2j1vtfo/-step-0-to-step-1000.mp4.\n",
            "MoviePy - Writing video /tmp/tmpq2j1vtfo/-step-0-to-step-1000.mp4\n",
            "\n"
          ]
        },
        {
          "name": "stderr",
          "output_type": "stream",
          "text": [
            "ffmpeg version 6.1.1-3ubuntu5 Copyright (c) 2000-2023 the FFmpeg developers\n",
            "  built with gcc 13 (Ubuntu 13.2.0-23ubuntu3)\n",
            "  configuration: --prefix=/usr --extra-version=3ubuntu5 --toolchain=hardened --libdir=/usr/lib/x86_64-linux-gnu --incdir=/usr/include/x86_64-linux-gnu --arch=amd64 --enable-gpl --disable-stripping --disable-omx --enable-gnutls --enable-libaom --enable-libass --enable-libbs2b --enable-libcaca --enable-libcdio --enable-libcodec2 --enable-libdav1d --enable-libflite --enable-libfontconfig --enable-libfreetype --enable-libfribidi --enable-libglslang --enable-libgme --enable-libgsm --enable-libharfbuzz --enable-libmp3lame --enable-libmysofa --enable-libopenjpeg --enable-libopenmpt --enable-libopus --enable-librubberband --enable-libshine --enable-libsnappy --enable-libsoxr --enable-libspeex --enable-libtheora --enable-libtwolame --enable-libvidstab --enable-libvorbis --enable-libvpx --enable-libwebp --enable-libx265 --enable-libxml2 --enable-libxvid --enable-libzimg --enable-openal --enable-opencl --enable-opengl --disable-sndio --enable-libvpl --disable-libmfx --enable-libdc1394 --enable-libdrm --enable-libiec61883 --enable-chromaprint --enable-frei0r --enable-ladspa --enable-libbluray --enable-libjack --enable-libpulse --enable-librabbitmq --enable-librist --enable-libsrt --enable-libssh --enable-libsvtav1 --enable-libx264 --enable-libzmq --enable-libzvbi --enable-lv2 --enable-sdl2 --enable-libplacebo --enable-librav1e --enable-pocketsphinx --enable-librsvg --enable-libjxl --enable-shared\n",
            "  libavutil      58. 29.100 / 58. 29.100\n",
            "  libavcodec     60. 31.102 / 60. 31.102\n",
            "  libavformat    60. 16.100 / 60. 16.100\n",
            "  libavdevice    60.  3.100 / 60.  3.100\n",
            "  libavfilter     9. 12.100 /  9. 12.100\n",
            "  libswscale      7.  5.100 /  7.  5.100\n",
            "  libswresample   4. 12.100 /  4. 12.100\n",
            "  libpostproc    57.  3.100 / 57.  3.100\n",
            "Input #0, mov,mp4,m4a,3gp,3g2,mj2, from '/tmp/tmpq2j1vtfo/-step-0-to-step-1000.mp4':\n",
            "  Metadata:\n",
            "    major_brand     : isom\n",
            "    minor_version   : 512\n",
            "    compatible_brands: isomiso2avc1mp41\n",
            "    encoder         : Lavf61.1.100\n",
            "  Duration: 00:00:20.02, start: 0.000000, bitrate: 69 kb/s\n",
            "  Stream #0:0[0x1](und): Video: h264 (High) (avc1 / 0x31637661), yuv420p(progressive), 600x400, 64 kb/s, 50 fps, 50 tbr, 12800 tbn (default)\n",
            "    Metadata:\n",
            "      handler_name    : VideoHandler\n",
            "      vendor_id       : [0][0][0][0]\n",
            "      encoder         : Lavc61.3.100 libx264\n",
            "Stream mapping:\n",
            "  Stream #0:0 -> #0:0 (h264 (native) -> h264 (libx264))\n",
            "Press [q] to stop, [?] for help\n",
            "[libx264 @ 0x57828abf8240] using cpu capabilities: MMX2 SSE2Fast SSSE3 SSE4.2 AVX FMA3 BMI2 AVX2\n",
            "[libx264 @ 0x57828abf8240] profile High, level 3.1, 4:2:0, 8-bit\n",
            "[libx264 @ 0x57828abf8240] 264 - core 164 r3108 31e19f9 - H.264/MPEG-4 AVC codec - Copyleft 2003-2023 - http://www.videolan.org/x264.html - options: cabac=1 ref=3 deblock=1:0:0 analyse=0x3:0x113 me=hex subme=7 psy=1 psy_rd=1.00:0.00 mixed_ref=1 me_range=16 chroma_me=1 trellis=1 8x8dct=1 cqm=0 deadzone=21,11 fast_pskip=1 chroma_qp_offset=-2 threads=12 lookahead_threads=2 sliced_threads=0 nr=0 decimate=1 interlaced=0 bluray_compat=0 constrained_intra=0 bframes=3 b_pyramid=2 b_adapt=1 b_bias=0 direct=1 weightb=1 open_gop=0 weightp=2 keyint=250 keyint_min=25 scenecut=40 intra_refresh=0 rc_lookahead=40 rc=crf mbtree=1 crf=23.0 qcomp=0.60 qpmin=0 qpmax=69 qpstep=4 ip_ratio=1.40 aq=1:1.00\n",
            "Output #0, mp4, to '/tmp/tmphrg0z8t0/replay.mp4':\n",
            "  Metadata:\n",
            "    major_brand     : isom\n",
            "    minor_version   : 512\n",
            "    compatible_brands: isomiso2avc1mp41\n",
            "    encoder         : Lavf60.16.100\n",
            "  Stream #0:0(und): Video: h264 (avc1 / 0x31637661), yuv420p(progressive), 600x400, q=2-31, 50 fps, 12800 tbn (default)\n",
            "    Metadata:\n",
            "      handler_name    : VideoHandler\n",
            "      vendor_id       : [0][0][0][0]\n",
            "      encoder         : Lavc60.31.102 libx264\n",
            "    Side data:\n",
            "      cpb: bitrate max/min/avg: 0/0/0 buffer size: 0 vbv_delay: N/A\n",
            "frame=    0 fps=0.0 q=0.0 size=       0kB time=N/A bitrate=N/A speed=N/A    \r"
          ]
        },
        {
          "name": "stdout",
          "output_type": "stream",
          "text": [
            "MoviePy - Done !\n",
            "MoviePy - video ready /tmp/tmpq2j1vtfo/-step-0-to-step-1000.mp4\n"
          ]
        },
        {
          "name": "stderr",
          "output_type": "stream",
          "text": [
            "[out#0/mp4 @ 0x57828ab29140] video:150kB audio:0kB subtitle:0kB other streams:0kB global headers:0kB muxing overhead: 8.258671%\n",
            "frame= 1001 fps=0.0 q=-1.0 Lsize=     162kB time=00:00:19.96 bitrate=  66.5kbits/s speed=29.2x    \n",
            "[libx264 @ 0x57828abf8240] frame I:5     Avg QP:10.24  size:  2009\n",
            "[libx264 @ 0x57828abf8240] frame P:270   Avg QP:21.46  size:   232\n",
            "[libx264 @ 0x57828abf8240] frame B:726   Avg QP:22.10  size:   110\n",
            "[libx264 @ 0x57828abf8240] consecutive B-frames:  1.6%  2.6%  7.5% 88.3%\n",
            "[libx264 @ 0x57828abf8240] mb I  I16..4: 81.2% 12.9%  5.9%\n",
            "[libx264 @ 0x57828abf8240] mb P  I16..4:  0.2%  0.4%  0.1%  P16..4:  1.8%  0.5%  0.2%  0.0%  0.0%    skip:96.8%\n",
            "[libx264 @ 0x57828abf8240] mb B  I16..4:  0.0%  0.0%  0.0%  B16..8:  2.9%  0.2%  0.0%  direct: 0.1%  skip:96.7%  L0:55.9% L1:43.4% BI: 0.7%\n",
            "[libx264 @ 0x57828abf8240] 8x8 transform intra:25.1% inter:16.5%\n",
            "[libx264 @ 0x57828abf8240] coded y,uvDC,uvAC intra: 6.8% 10.3% 9.1% inter: 0.2% 0.2% 0.2%\n",
            "[libx264 @ 0x57828abf8240] i16 v,h,dc,p: 86%  9%  5%  0%\n",
            "[libx264 @ 0x57828abf8240] i8 v,h,dc,ddl,ddr,vr,hd,vl,hu: 14% 18% 68%  0%  0%  0%  0%  0%  0%\n",
            "[libx264 @ 0x57828abf8240] i4 v,h,dc,ddl,ddr,vr,hd,vl,hu: 13% 17% 58%  2%  2%  2%  3%  1%  3%\n",
            "[libx264 @ 0x57828abf8240] i8c dc,h,v,p: 92%  5%  3%  0%\n",
            "[libx264 @ 0x57828abf8240] Weighted P-Frames: Y:0.0% UV:0.0%\n",
            "[libx264 @ 0x57828abf8240] ref P L0: 67.0%  2.2% 20.3% 10.5%\n",
            "[libx264 @ 0x57828abf8240] ref B L0: 64.4% 31.7%  3.9%\n",
            "[libx264 @ 0x57828abf8240] ref B L1: 94.8%  5.2%\n",
            "[libx264 @ 0x57828abf8240] kb/s:60.96\n"
          ]
        },
        {
          "name": "stdout",
          "output_type": "stream",
          "text": [
            "\u001b[38;5;4mℹ Pushing repo lukejuusola/ppo-LunarLander-v2 to the Hugging Face\n",
            "Hub\u001b[0m\n",
            "\u001b[38;5;4mℹ Your model is pushed to the Hub. You can view your model here:\n",
            "https://huggingface.co/lukejuusola/ppo-LunarLander-v2/tree/main/\u001b[0m\n"
          ]
        },
        {
          "data": {
            "text/plain": [
              "CommitInfo(commit_url='https://huggingface.co/lukejuusola/ppo-LunarLander-v2/commit/ae8f90159d38ac9d83dd66b70e345a60d649b441', commit_message='Hugging Face Reinforcment Learning Course. Unit1. V2', commit_description='', oid='ae8f90159d38ac9d83dd66b70e345a60d649b441', pr_url=None, repo_url=RepoUrl('https://huggingface.co/lukejuusola/ppo-LunarLander-v2', endpoint='https://huggingface.co', repo_type='model', repo_id='lukejuusola/ppo-LunarLander-v2'), pr_revision=None, pr_num=None)"
            ]
          },
          "execution_count": 15,
          "metadata": {},
          "output_type": "execute_result"
        }
      ],
      "source": [
        "import gymnasium as gym\n",
        "from stable_baselines3.common.vec_env import DummyVecEnv\n",
        "from stable_baselines3.common.env_util import make_vec_env\n",
        "\n",
        "from huggingface_sb3 import package_to_hub\n",
        "\n",
        "## TODO: Define a repo_id\n",
        "## repo_id is the id of the model repository from the Hugging Face Hub (repo_id = {organization}/{repo_name} for instance ThomasSimonini/ppo-LunarLander-v2\n",
        "repo_id = \"lukejuusola/ppo-LunarLander-v2\"\n",
        "\n",
        "# TODO: Define the name of the environment\n",
        "env_id = \"LunarLander-v2\"\n",
        "\n",
        "# Create the evaluation env and set the render_mode=\"rgb_array\"\n",
        "eval_env = DummyVecEnv([lambda: Monitor(gym.make(env_id, render_mode=\"rgb_array\"))])\n",
        "\n",
        "\n",
        "# TODO: Define the model architecture we used\n",
        "model_architecture = \"PPO\"\n",
        "\n",
        "## TODO: Define the commit message\n",
        "commit_message = \"Hugging Face Reinforcment Learning Course. Unit1. V2\"\n",
        "\n",
        "# method save, evaluate, generate a model card and record a replay video of your agent before pushing the repo to the hub\n",
        "package_to_hub(model=model, # Our trained model\n",
        "               model_name=model_name, # The name of our trained model\n",
        "               model_architecture=model_architecture, # The model architecture we used: in our case PPO\n",
        "               env_id=env_id, # Name of the environment\n",
        "               eval_env=eval_env, # Evaluation Environment\n",
        "               repo_id=repo_id, # id of the model repository from the Hugging Face Hub (repo_id = {organization}/{repo_name} for instance ThomasSimonini/ppo-LunarLander-v2\n",
        "               commit_message=commit_message)"
      ]
    },
    {
      "cell_type": "markdown",
      "metadata": {
        "id": "Avf6gufJBGMw"
      },
      "source": [
        "#### Solution\n"
      ]
    },
    {
      "cell_type": "markdown",
      "metadata": {
        "id": "T79AEAWEFIxz"
      },
      "source": [
        "Congrats 🥳 you've just trained and uploaded your first Deep Reinforcement Learning agent. The script above should have displayed a link to a model repository such as https://huggingface.co/osanseviero/test_sb3. When you go to this link, you can:\n",
        "* See a video preview of your agent at the right.\n",
        "* Click \"Files and versions\" to see all the files in the repository.\n",
        "* Click \"Use in stable-baselines3\" to get a code snippet that shows how to load the model.\n",
        "* A model card (`README.md` file) which gives a description of the model\n",
        "\n",
        "Under the hood, the Hub uses git-based repositories (don't worry if you don't know what git is), which means you can update the model with new versions as you experiment and improve your agent.\n",
        "\n",
        "Compare the results of your LunarLander-v2 with your classmates using the leaderboard 🏆 👉 https://huggingface.co/spaces/huggingface-projects/Deep-Reinforcement-Learning-Leaderboard"
      ]
    },
    {
      "cell_type": "markdown",
      "metadata": {
        "id": "9nWnuQHRfFRa"
      },
      "source": [
        "## Load a saved LunarLander model from the Hub 🤗\n",
        "Thanks to [ironbar](https://github.com/ironbar) for the contribution.\n",
        "\n",
        "Loading a saved model from the Hub is really easy.\n",
        "\n",
        "You go to https://huggingface.co/models?library=stable-baselines3 to see the list of all the Stable-baselines3 saved models.\n",
        "1. You select one and copy its repo_id"
      ]
    },
    {
      "cell_type": "markdown",
      "metadata": {
        "id": "hNPLJF2bfiUw"
      },
      "source": [
        "2. Then we just need to use load_from_hub with:\n",
        "- The repo_id\n",
        "- The filename: the saved model inside the repo and its extension (*.zip)"
      ]
    },
    {
      "cell_type": "markdown",
      "metadata": {
        "id": "bhb9-NtsinKB"
      },
      "source": [
        "Because the model I download from the Hub was trained with Gym (the former version of Gymnasium) we need to install shimmy a API conversion tool that will help us to run the environment correctly.\n",
        "\n",
        "Shimmy Documentation: https://github.com/Farama-Foundation/Shimmy"
      ]
    },
    {
      "cell_type": "code",
      "execution_count": 20,
      "metadata": {
        "id": "oj8PSGHJfwz3"
      },
      "outputs": [
        {
          "name": "stdout",
          "output_type": "stream",
          "text": [
            "== CURRENT SYSTEM INFO ==\n",
            "- OS: Linux-6.6.87.2-microsoft-standard-WSL2-x86_64-with-glibc2.39 # 1 SMP PREEMPT_DYNAMIC Thu Jun  5 18:30:46 UTC 2025\n",
            "- Python: 3.12.3\n",
            "- Stable-Baselines3: 2.0.0a5\n",
            "- PyTorch: 2.7.1+cu126\n",
            "- GPU Enabled: True\n",
            "- Numpy: 2.3.1\n",
            "- Cloudpickle: 3.1.1\n",
            "- Gymnasium: 0.28.1\n",
            "\n",
            "== SAVED MODEL SYSTEM INFO ==\n",
            "- OS: Linux-6.6.87.2-microsoft-standard-WSL2-x86_64-with-glibc2.39 # 1 SMP PREEMPT_DYNAMIC Thu Jun  5 18:30:46 UTC 2025\n",
            "- Python: 3.12.3\n",
            "- Stable-Baselines3: 2.0.0a5\n",
            "- PyTorch: 2.7.1+cu126\n",
            "- GPU Enabled: True\n",
            "- Numpy: 2.3.1\n",
            "- Cloudpickle: 3.1.1\n",
            "- Gymnasium: 0.28.1\n",
            "\n"
          ]
        }
      ],
      "source": [
        "from huggingface_sb3 import load_from_hub\n",
        "# repo_id = \"Classroom-workshop/assignment2-omar\" # The repo_id\n",
        "# filename = \"ppo-LunarLander-v2.zip\" # The model filename.zip\n",
        "\n",
        "repo_id = \"lukejuusola/ppo-LunarLander-v2\"\n",
        "filename = \"ppo-LunarLander-v2.zip\"\n",
        "\n",
        "# When the model was trained on Python 3.8 the pickle protocol is 5\n",
        "# But Python 3.6, 3.7 use protocol 4\n",
        "# In order to get compatibility we need to:\n",
        "# 1. Install pickle5 (we done it at the beginning of the colab)\n",
        "# 2. Create a custom empty object we pass as parameter to PPO.load()\n",
        "custom_objects = {\n",
        "            \"learning_rate\": 0.0,\n",
        "            \"lr_schedule\": lambda _: 0.0,\n",
        "            \"clip_range\": lambda _: 0.0,\n",
        "}\n",
        "\n",
        "checkpoint = load_from_hub(repo_id, filename)\n",
        "model = PPO.load(checkpoint, custom_objects=custom_objects, print_system_info=True)"
      ]
    },
    {
      "cell_type": "markdown",
      "metadata": {
        "id": "Fs0Y-qgPgLUf"
      },
      "source": [
        "Let's evaluate this agent:"
      ]
    },
    {
      "cell_type": "code",
      "execution_count": 21,
      "metadata": {
        "id": "PAEVwK-aahfx"
      },
      "outputs": [
        {
          "name": "stdout",
          "output_type": "stream",
          "text": [
            "mean_reward=241.78 +/- 38.2464602365096\n"
          ]
        }
      ],
      "source": [
        "#@title\n",
        "eval_env = Monitor(gym.make(\"LunarLander-v2\"))\n",
        "mean_reward, std_reward = evaluate_policy(model, eval_env, n_eval_episodes=10, deterministic=True)\n",
        "print(f\"mean_reward={mean_reward:.2f} +/- {std_reward}\")"
      ]
    },
    {
      "cell_type": "markdown",
      "metadata": {
        "id": "BQAwLnYFPk-s"
      },
      "source": [
        "## Some additional challenges 🏆\n",
        "The best way to learn **is to try things by your own**! As you saw, the current agent is not doing great. As a first suggestion, you can train for more steps. With 1,000,000 steps, we saw some great results!\n",
        "\n",
        "In the [Leaderboard](https://huggingface.co/spaces/huggingface-projects/Deep-Reinforcement-Learning-Leaderboard) you will find your agents. Can you get to the top?\n",
        "\n",
        "Here are some ideas to achieve so:\n",
        "* Train more steps\n",
        "* Try different hyperparameters for `PPO`. You can see them at https://stable-baselines3.readthedocs.io/en/master/modules/ppo.html#parameters.\n",
        "* Check the [Stable-Baselines3 documentation](https://stable-baselines3.readthedocs.io/en/master/modules/dqn.html) and try another model such as DQN.\n",
        "* **Push your new trained model** on the Hub 🔥\n",
        "\n",
        "**Compare the results of your LunarLander-v2 with your classmates** using the [leaderboard](https://huggingface.co/spaces/huggingface-projects/Deep-Reinforcement-Learning-Leaderboard) 🏆\n",
        "\n",
        "Is moon landing too boring for you? Try to **change the environment**, why not use MountainCar-v0, CartPole-v1 or CarRacing-v0? Check how they work [using the gym documentation](https://www.gymlibrary.dev/) and have fun 🎉."
      ]
    },
    {
      "cell_type": "markdown",
      "metadata": {
        "id": "9lM95-dvmif8"
      },
      "source": [
        "________________________________________________________________________\n",
        "Congrats on finishing this chapter! That was the biggest one, **and there was a lot of information.**\n",
        "\n",
        "If you’re still feel confused with all these elements...it's totally normal! **This was the same for me and for all people who studied RL.**\n",
        "\n",
        "Take time to really **grasp the material before continuing and try the additional challenges**. It’s important to master these elements and have a solid foundations.\n",
        "\n",
        "Naturally, during the course, we’re going to dive deeper into these concepts but **it’s better to have a good understanding of them now before diving into the next chapters.**\n",
        "\n"
      ]
    },
    {
      "cell_type": "markdown",
      "metadata": {
        "id": "BjLhT70TEZIn"
      },
      "source": [
        "Next time, in the bonus unit 1, you'll train Huggy the Dog to fetch the stick.\n",
        "\n",
        "<img src=\"https://huggingface.co/datasets/huggingface-deep-rl-course/course-images/resolve/main/en/notebooks/unit1/huggy.jpg\" alt=\"Huggy\"/>\n",
        "\n",
        "## Keep learning, stay awesome 🤗"
      ]
    }
  ],
  "metadata": {
    "accelerator": "GPU",
    "colab": {
      "collapsed_sections": [
        "QAN7B0_HCVZC",
        "BqPKw3jt_pG5"
      ],
      "gpuType": "T4",
      "private_outputs": true,
      "provenance": []
    },
    "kernelspec": {
      "display_name": "venv",
      "language": "python",
      "name": "python3"
    },
    "language_info": {
      "codemirror_mode": {
        "name": "ipython",
        "version": 3
      },
      "file_extension": ".py",
      "mimetype": "text/x-python",
      "name": "python",
      "nbconvert_exporter": "python",
      "pygments_lexer": "ipython3",
      "version": "3.12.3"
    }
  },
  "nbformat": 4,
  "nbformat_minor": 0
}
